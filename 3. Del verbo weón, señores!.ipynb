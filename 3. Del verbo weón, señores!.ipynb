{
 "cells": [
  {
   "cell_type": "code",
   "execution_count": 1,
   "id": "38dfcbe8",
   "metadata": {},
   "outputs": [],
   "source": [
    "#HINT: 'weon' no es verbo"
   ]
  },
  {
   "cell_type": "markdown",
   "id": "f7eebcaf",
   "metadata": {},
   "source": [
    "# Verbos sobre particulas weonas.\n",
    "### "
   ]
  },
  {
   "cell_type": "markdown",
   "id": "cbf075ae",
   "metadata": {},
   "source": [
    "Ya vimos las definiciones, usos y diferencias entre *weón, wea y aweon*, estas partículas por lo general son referencias coloquiales e informales hacia sujetos, objetos o situaciones según sea su caso. Identificamos a la particula aweon* como un pseudo-verbo conjugado de un verbo oculto en la lengua, llamado: **AWEONIZAR**. Profundizaremos brevemente su caso.\n",
    "\n",
    "### "
   ]
  },
  {
   "cell_type": "markdown",
   "id": "9aea0e10",
   "metadata": {},
   "source": [
    "## **Verbo Aweonizar**: acción, transformación, clasificación de algo a negativo o estúpido.\n",
    "#### \n",
    "Cuando se le quiere hacer valer su poca valía, negatividad, mala vibra, mala actitud a un sujeto involucrado, se dice que estamos aweonizando a alguien.\n",
    "\n",
    "> *Juan fue mi amigo por 2 años, pero despúes de lo que me hizo, no quiero nada con ese weón.* \n",
    "\n",
    "En este caso, Juan fue aweonizado por el emisor del comentario (desvinculación de amistad)\n",
    "\n",
    "> *Pero weona, por qué le dijiste eso al profesor!*\n",
    "\n",
    "Claramente, la amiga cercana al sujeto esta siendo aweonizada por haber dicho algo indebido al profesor. (interpelación)\n",
    "\n",
    "> *Tantas weás aweonás que escribiste ayer..*\n",
    "\n",
    "Aweoniza la situación donde el sujeto escribió muchas cosas (evidente molestia y discusión)"
   ]
  },
  {
   "cell_type": "markdown",
   "id": "809cb4fd",
   "metadata": {},
   "source": [
    "### \n",
    "> **En esta ocasión, no trabajaremos en las conjugaciones de aweonizar porque no es un verbo ampliamente usado. Generalmente se emplean los 'efectos' de esta acción sobre los involucrados.**\n",
    "\n",
    "### "
   ]
  },
  {
   "cell_type": "markdown",
   "id": "718f14aa",
   "metadata": {},
   "source": []
  },
  {
   "cell_type": "markdown",
   "id": "8c56fe3b",
   "metadata": {},
   "source": []
  },
  {
   "cell_type": "markdown",
   "id": "e1ddea7f",
   "metadata": {},
   "source": []
  },
  {
   "cell_type": "markdown",
   "id": "86f17ed2",
   "metadata": {},
   "source": []
  }
 ],
 "metadata": {
  "kernelspec": {
   "display_name": "Python 3",
   "language": "python",
   "name": "python3"
  },
  "language_info": {
   "codemirror_mode": {
    "name": "ipython",
    "version": 3
   },
   "file_extension": ".py",
   "mimetype": "text/x-python",
   "name": "python",
   "nbconvert_exporter": "python",
   "pygments_lexer": "ipython3",
   "version": "3.8.8"
  }
 },
 "nbformat": 4,
 "nbformat_minor": 5
}
