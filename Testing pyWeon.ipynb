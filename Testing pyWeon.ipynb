{
 "cells": [
  {
   "cell_type": "code",
   "execution_count": 1,
   "id": "8257130a",
   "metadata": {},
   "outputs": [],
   "source": [
    "from pyWeon import Wn\n",
    "wn = Wn()"
   ]
  },
  {
   "cell_type": "code",
   "execution_count": 2,
   "id": "92d40360",
   "metadata": {},
   "outputs": [
    {
     "name": "stdout",
     "output_type": "stream",
     "text": [
      "Enter a Chilean weon* phrase: no weona y tu mama!\n"
     ]
    }
   ],
   "source": [
    "L = input(\"Enter a Chilean weon* phrase: \")"
   ]
  },
  {
   "cell_type": "code",
   "execution_count": 3,
   "id": "cc1e50a6",
   "metadata": {
    "scrolled": true
   },
   "outputs": [
    {
     "name": "stdout",
     "output_type": "stream",
     "text": [
      "[chileno] -> no weona y tu mama!\n",
      "[es] -> No niña! y tu mama!.\n"
     ]
    }
   ],
   "source": [
    "lang='es'\n",
    "t = wn.translate(L)\n",
    "print('[%s] -> %s'%(lang, t))"
   ]
  },
  {
   "cell_type": "code",
   "execution_count": 4,
   "id": "82831284",
   "metadata": {
    "scrolled": false
   },
   "outputs": [
    {
     "name": "stdout",
     "output_type": "stream",
     "text": [
      "[chileno] -> no niña! y tu mama!.\n",
      "[en] ->  no girl! and your mom!\n"
     ]
    }
   ],
   "source": [
    "lang='en'\n",
    "text = wn.translate(t, lang)\n",
    "print('[%s] ->  %s'%(lang, text))"
   ]
  },
  {
   "cell_type": "markdown",
   "id": "a67adff4",
   "metadata": {},
   "source": [
    "\n",
    "# NLP applied to translation\n",
    "### "
   ]
  },
  {
   "cell_type": "code",
   "execution_count": 5,
   "id": "03c5a328",
   "metadata": {},
   "outputs": [
    {
     "name": "stdout",
     "output_type": "stream",
     "text": [
      "*subjetividad: 0.0 \n",
      "*polaridad: 0.0 \n",
      "*analisis: Neutral\n"
     ]
    }
   ],
   "source": [
    "a,b,c = wn.getSentimentAnalysis(text)\n",
    "print(\"*subjetividad: %s \\n*polaridad: %s \\n*analisis: %s\"%(a,b,c))"
   ]
  },
  {
   "cell_type": "markdown",
   "id": "16247e8e",
   "metadata": {},
   "source": [
    "## Translate and Analize a Chilean phrase\n",
    "### "
   ]
  },
  {
   "cell_type": "code",
   "execution_count": 6,
   "id": "d27b0b6b",
   "metadata": {
    "scrolled": true
   },
   "outputs": [
    {
     "name": "stdout",
     "output_type": "stream",
     "text": [
      "[chileno] -> déjate de ser tan aweonao\n",
      "Stop being so stupid! 100.00% Negative\n"
     ]
    },
    {
     "data": {
      "text/plain": [
       "['Stop being so stupid!', '100.00% Negative']"
      ]
     },
     "execution_count": 6,
     "metadata": {},
     "output_type": "execute_result"
    }
   ],
   "source": [
    "L = \"déjate de ser tan aweonao\"\n",
    "wn.translateAndAnalize(L)"
   ]
  }
 ],
 "metadata": {
  "kernelspec": {
   "display_name": "Python 3",
   "language": "python",
   "name": "python3"
  },
  "language_info": {
   "codemirror_mode": {
    "name": "ipython",
    "version": 3
   },
   "file_extension": ".py",
   "mimetype": "text/x-python",
   "name": "python",
   "nbconvert_exporter": "python",
   "pygments_lexer": "ipython3",
   "version": "3.8.8"
  }
 },
 "nbformat": 4,
 "nbformat_minor": 5
}
