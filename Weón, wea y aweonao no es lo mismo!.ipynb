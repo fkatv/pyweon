{
 "cells": [
  {
   "cell_type": "markdown",
   "id": "0c9460ee",
   "metadata": {},
   "source": [
    "# Weón, wea y aweonao no es lo mismo, aunque suene similar!\n",
    "#### "
   ]
  },
  {
   "cell_type": "markdown",
   "id": "95095b78",
   "metadata": {},
   "source": [
    "\n",
    "#### "
   ]
  },
  {
   "cell_type": "markdown",
   "id": "cbd0d529",
   "metadata": {},
   "source": [
    "\n",
    "#### "
   ]
  },
  {
   "cell_type": "markdown",
   "id": "6ca0f666",
   "metadata": {},
   "source": [
    "\n",
    "#### "
   ]
  },
  {
   "cell_type": "markdown",
   "id": "4d4d585e",
   "metadata": {},
   "source": [
    "\n",
    "#### "
   ]
  },
  {
   "cell_type": "markdown",
   "id": "b7d5580d",
   "metadata": {},
   "source": [
    "\n",
    "#### "
   ]
  },
  {
   "cell_type": "markdown",
   "id": "0caf57ef",
   "metadata": {},
   "source": [
    "\n",
    "#### "
   ]
  },
  {
   "cell_type": "markdown",
   "id": "d09e98b2",
   "metadata": {},
   "source": [
    "\n",
    "#### "
   ]
  },
  {
   "cell_type": "markdown",
   "id": "f4a710fa",
   "metadata": {},
   "source": [
    "\n",
    "#### "
   ]
  }
 ],
 "metadata": {
  "kernelspec": {
   "display_name": "Python 3",
   "language": "python",
   "name": "python3"
  },
  "language_info": {
   "codemirror_mode": {
    "name": "ipython",
    "version": 3
   },
   "file_extension": ".py",
   "mimetype": "text/x-python",
   "name": "python",
   "nbconvert_exporter": "python",
   "pygments_lexer": "ipython3",
   "version": "3.8.8"
  }
 },
 "nbformat": 4,
 "nbformat_minor": 5
}
