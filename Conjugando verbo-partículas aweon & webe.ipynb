{
 "cells": [
  {
   "cell_type": "markdown",
   "id": "c8f70ce1",
   "metadata": {},
   "source": [
    "# Conjugando verbo-partículas"
   ]
  },
  {
   "cell_type": "markdown",
   "id": "a2534834",
   "metadata": {},
   "source": [
    "\n",
    "### \n",
    "## Qué son las verbo-partículas y Porqué usarlo ?\n",
    "### \n",
    "Defino verbo-particulas a las palabras dentro de una oración cuya característica es ser de la familia de una partícula de un dialecto informal-cotidiano previamente definido y a su vez, ser verbo conjugable, debido a que reflejan efectos sobre sujetos, cosas o situaciones. \n",
    "\n",
    "Se usará este concepto para hacer diferencia de las particulas ya mencionadas, y esta definición en si, ayudará a mejorar los algoritmos de reconocimiento verbal en oraciones."
   ]
  },
  {
   "cell_type": "markdown",
   "id": "65fc3a90",
   "metadata": {},
   "source": [
    "### \n",
    "## Verbo-partículas aweon & webe\n",
    "### \n",
    "\n",
    "### "
   ]
  },
  {
   "cell_type": "markdown",
   "id": "e3909ca4",
   "metadata": {},
   "source": []
  },
  {
   "cell_type": "markdown",
   "id": "b8bc5040",
   "metadata": {},
   "source": []
  },
  {
   "cell_type": "markdown",
   "id": "c88bb722",
   "metadata": {},
   "source": []
  },
  {
   "cell_type": "markdown",
   "id": "4ffd150c",
   "metadata": {},
   "source": []
  }
 ],
 "metadata": {
  "kernelspec": {
   "display_name": "Python 3",
   "language": "python",
   "name": "python3"
  },
  "language_info": {
   "codemirror_mode": {
    "name": "ipython",
    "version": 3
   },
   "file_extension": ".py",
   "mimetype": "text/x-python",
   "name": "python",
   "nbconvert_exporter": "python",
   "pygments_lexer": "ipython3",
   "version": "3.8.8"
  }
 },
 "nbformat": 4,
 "nbformat_minor": 5
}
