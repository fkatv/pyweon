{
 "cells": [
  {
   "cell_type": "markdown",
   "id": "0c9460ee",
   "metadata": {},
   "source": [
    "# Weón, weá y aweonao no es lo mismo, aunque suene similar!\n",
    "#### "
   ]
  },
  {
   "cell_type": "markdown",
   "id": "95095b78",
   "metadata": {},
   "source": [
    "## Qué es weá?\n",
    "\n",
    "Es una palabra descalificativa que reemplaza cualquier objeto inanimado, material, situaciones, acciones o eventos y se pronuncia **güeáh**. Puede ser afectado por la cantidad de elementos, Si hay **pluralidad de elementos**, se escribe weás y se pronuncia  **güeás**\n",
    "\n",
    "> 'Te regreso tu wea, no encendió aunque le hice un montón de weás para que funcionara'\n",
    "\n",
    "- 'Te regreso tu wea, $\\Rightarrow$ wea es un **objeto material**\n",
    "\n",
    "- '[...] un montón de weás para que funcionara' $\\Rightarrow$  weás es un **conjunto de acciones** que hizo el emisor para arreglar el objeto devuelto.\n",
    "\n",
    "### \n",
    "### Weá y weás puede tener diminutivos\n",
    "\n",
    "> Mi weaita tiene sus tiempos muertos. //weaita -> objeto\n",
    "\n",
    "> Agarra tus weaitas y vete de acá. // weaitas -> conjunto de cosas.\n",
    "\n",
    "####  \n",
    "### Puede representar a los testículos si:\n",
    "\n",
    "Wea y weas se pronuncia **güéa** y **güéas** y su frase que la contiene posee un adjetivo posesivo\n",
    "\n",
    "> Me duele mis weas\n",
    "\n",
    "> Mis weas me hierben \n",
    "\n",
    "### Weas (*güéas*) es adjetivo descalificativo si:\n",
    "\n",
    "La frase que la contiene tiene una conjugación de ser, y representa a una mala(s) persona(s) o a una mala(s) situación(es)\n",
    "\n",
    "> Aunque te traté con atención, fuiste como las weas"
   ]
  },
  {
   "cell_type": "markdown",
   "id": "cbd0d529",
   "metadata": {},
   "source": [
    "\n",
    "#### "
   ]
  },
  {
   "cell_type": "markdown",
   "id": "6ca0f666",
   "metadata": {},
   "source": [
    "\n",
    "#### "
   ]
  },
  {
   "cell_type": "markdown",
   "id": "4d4d585e",
   "metadata": {},
   "source": [
    "\n",
    "#### "
   ]
  },
  {
   "cell_type": "markdown",
   "id": "b7d5580d",
   "metadata": {},
   "source": [
    "\n",
    "#### "
   ]
  },
  {
   "cell_type": "markdown",
   "id": "0caf57ef",
   "metadata": {},
   "source": [
    "\n",
    "#### "
   ]
  },
  {
   "cell_type": "markdown",
   "id": "d09e98b2",
   "metadata": {},
   "source": [
    "\n",
    "#### "
   ]
  },
  {
   "cell_type": "markdown",
   "id": "f4a710fa",
   "metadata": {},
   "source": [
    "\n",
    "#### "
   ]
  }
 ],
 "metadata": {
  "kernelspec": {
   "display_name": "Python 3",
   "language": "python",
   "name": "python3"
  },
  "language_info": {
   "codemirror_mode": {
    "name": "ipython",
    "version": 3
   },
   "file_extension": ".py",
   "mimetype": "text/x-python",
   "name": "python",
   "nbconvert_exporter": "python",
   "pygments_lexer": "ipython3",
   "version": "3.8.8"
  }
 },
 "nbformat": 4,
 "nbformat_minor": 5
}
