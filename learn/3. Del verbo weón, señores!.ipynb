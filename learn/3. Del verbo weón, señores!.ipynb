{
 "cells": [
  {
   "cell_type": "code",
   "execution_count": 1,
   "id": "a60255be",
   "metadata": {},
   "outputs": [],
   "source": [
    "#HINT: 'weon' no es verbo"
   ]
  },
  {
   "cell_type": "markdown",
   "id": "a2391065",
   "metadata": {},
   "source": [
    "# Verbos sobre particulas weonas.\n",
    "### "
   ]
  },
  {
   "cell_type": "markdown",
   "id": "b8e1d7d3",
   "metadata": {},
   "source": [
    "Ya vimos las definiciones, usos y diferencias entre *weón, wea y aweon*, estas partículas por lo general son referencias coloquiales e informales hacia sujetos, objetos o situaciones según sea su caso. Identificamos a la particula aweon* como un pseudo-verbo conjugado de un verbo oculto en la lengua, llamado: **AWEONIZAR**. Profundizaremos su caso.\n",
    "\n",
    "### "
   ]
  },
  {
   "cell_type": "markdown",
   "id": "3e7418b8",
   "metadata": {},
   "source": [
    "## **Verbo Aweonizar**: acción, transformación, clasificación de algo a negativo o estúpido.\n",
    "#### \n",
    "\n",
    "*(Generalmente no se habla de este verbo, pero se entienden sus efectos de forma innata)*\n",
    "\n",
    "Cuando se le quiere hacer valer la poca valía, negatividad, mala vibra, mala actitud a un sujeto involucrado, se dice que estamos aweonizando a alguien.\n",
    "\n",
    "> *Juan fue mi amigo por 2 años, pero despúes de lo que me hizo, no quiero nada con ese weón.* \n",
    "\n",
    "En este caso, Juan fue aweonizado por el emisor del comentario (desvinculación de amistad)\n",
    "\n",
    "> *Pero weona, por qué le dijiste eso al profesor!*\n",
    "\n",
    "Claramente, la amiga cercana al sujeto esta siendo aweonizada por haber dicho algo indebido al profesor. (interpelación)\n",
    "\n",
    "> *Tantas weás aweonás que escribiste ayer..*\n",
    "\n",
    "Aweoniza al sujeto y la situación actual que causó porque escribió muchas cosas estúpidas.(evidente molestia y discusión)"
   ]
  },
  {
   "cell_type": "markdown",
   "id": "c9b209ae",
   "metadata": {},
   "source": [
    "### \n",
    "### Conjugación de aweonizar:\n",
    "### \n",
    "> No se habla de las conjugaciones de aweonizar porque no es un verbo que se use directamente en las oraciones. Generalmente se emplean los 'efectos' de esta acción sobre los involucrados mediante las partículas previamente estudiadas.\n",
    "\n",
    ">Por sentido común, podemos inferir que la partícula aweon sería un auxiliar de este verbo, puesto que se puede entender como un efecto de aweonizar, puede ser usado para hacer entender lo ridículo, estúpido o negativo puede llegar a ser algo o alguien.\n",
    "\n",
    "> **De lo anterior, se puede redefinir algo/alguien *aweonao* como una identificación de un estado negativo del involucrado, por consiguiente, se puede conjugar en las oraciones.**\n",
    "\n",
    "### "
   ]
  },
  {
   "cell_type": "markdown",
   "id": "b9ed2f55",
   "metadata": {},
   "source": [
    "#### \n",
    "# Verbo webear: acción de hacer algo '*aweonao*'\n",
    "#### "
   ]
  },
  {
   "cell_type": "markdown",
   "id": "8b3df1a9",
   "metadata": {},
   "source": [
    "Está relacionado a un conjunto de una o más situaciones fuera de lo cotidiano donde se podría estar haciendo tonterías, bromas o maldades. Este verbo es una derivación de aweonizar, sin embargo, **webear** se aplica solo a situaciones y eventos weones. Es usado con mucha frecuencia en el habla coloquial chilena."
   ]
  },
  {
   "cell_type": "markdown",
   "id": "d95685f3",
   "metadata": {},
   "source": [
    "#### \n",
    "> Se usará la partícula **webe** para conjugar el verbo webear."
   ]
  },
  {
   "cell_type": "markdown",
   "id": "c1696b05",
   "metadata": {},
   "source": [
    "### Conjugaciones de webear (webe)"
   ]
  },
  {
   "cell_type": "code",
   "execution_count": 2,
   "id": "a4dabec0",
   "metadata": {},
   "outputs": [
    {
     "name": "stdout",
     "output_type": "stream",
     "text": [
      "yo me webeo\n",
      "tú te webeas / ai\n",
      "el se webea\n",
      "nosotros nos webeamos\n",
      "ellos se webean\n",
      "voh (te) webeai\n"
     ]
    }
   ],
   "source": [
    "from pywn import Wn\n",
    "wn = Wn()\n",
    "wn.simplePresent('webe')"
   ]
  },
  {
   "cell_type": "code",
   "execution_count": 3,
   "id": "3e708cfb",
   "metadata": {},
   "outputs": [
    {
     "name": "stdout",
     "output_type": "stream",
     "text": [
      "yo me webeé\n",
      "tú te webeaste\n",
      "el se webeó\n",
      "nosotros nos webeamos\n",
      "ellos se webearon\n",
      "voh (te)webeaste\n"
     ]
    }
   ],
   "source": [
    "wn.simplePast('webe')"
   ]
  },
  {
   "cell_type": "code",
   "execution_count": 4,
   "id": "ecf7b0c7",
   "metadata": {
    "scrolled": true
   },
   "outputs": [
    {
     "name": "stdout",
     "output_type": "stream",
     "text": [
      "yo me webeé\n",
      "tú te webearás\n",
      "el se webeará\n",
      "nosotros nos webearemos\n",
      "ellos se webearán\n",
      "voh (te) webeai\n"
     ]
    }
   ],
   "source": [
    "wn.simpleFuture('webe')"
   ]
  },
  {
   "cell_type": "markdown",
   "id": "3154a019",
   "metadata": {},
   "source": [
    "### \n",
    "### Ejemplos\n",
    "\n",
    "- Mamá iré a webear al Mall con Josefa, vuelvo en 2 horas!\n",
    "- Webeame una vez más y te corto el internet.\n",
    "- Agarramos pal webeo al amigo. //**slang:** 'Agarrar pal webeo': bromear o molestar a alguien"
   ]
  },
  {
   "cell_type": "markdown",
   "id": "7db070ca",
   "metadata": {},
   "source": [
    "### Analizando la conjugación Pretérita de la particula webe\n",
    "\n",
    "En la cotidianeidad, es poco probable usar la conjugación en pretérito simple de webear para la primera persona singular (YO). Es extraño decir, *yo me webeé*.. en ese caso, se podría decir, **yo me webearía**, pero pasaría a ser preterito condicional. un análisis más profundo en los próximos notebooks."
   ]
  },
  {
   "cell_type": "markdown",
   "id": "e18af7e7",
   "metadata": {},
   "source": [
    "### \n",
    "\n",
    "## Siguiente lección: [Conjugando aweon & webe](github.com/fkatv/pyweon)"
   ]
  }
 ],
 "metadata": {
  "kernelspec": {
   "display_name": "Python 3",
   "language": "python",
   "name": "python3"
  },
  "language_info": {
   "codemirror_mode": {
    "name": "ipython",
    "version": 3
   },
   "file_extension": ".py",
   "mimetype": "text/x-python",
   "name": "python",
   "nbconvert_exporter": "python",
   "pygments_lexer": "ipython3",
   "version": "3.8.8"
  }
 },
 "nbformat": 4,
 "nbformat_minor": 5
}
