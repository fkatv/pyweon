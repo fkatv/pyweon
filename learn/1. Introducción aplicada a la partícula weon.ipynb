{
 "cells": [
  {
   "cell_type": "code",
   "execution_count": 3,
   "id": "bd39c4ed",
   "metadata": {},
   "outputs": [],
   "source": [
    "from pywn import Wn\n",
    "wn = Wn()"
   ]
  },
  {
   "cell_type": "markdown",
   "id": "4d8f8612",
   "metadata": {},
   "source": [
    "# Cátedra fácil para entender el weón.\n",
    "\n",
    "### Autor: Fabián Catalán Vejar, chileno\n",
    "### Actualización: 4 Enero de 2022\n"
   ]
  },
  {
   "cell_type": "markdown",
   "id": "a14e2007",
   "metadata": {},
   "source": [
    "#### \n",
    "> [**Weona**, que brutal!](https://www.youtube.com/watch?v=z6E4ojGAM5s) (Amiga,que brutal!) \n",
    "\n",
    "> [Saluda con una mano **aweonao**](https://www.youtube.com/watch?v=mXtFCux_UzU&t=21s) (Saluda con una mano, bobo!)\n",
    "\n",
    "> [Y salí yo y le dije: 'Oye **aweonao** fijate que hay niños chicos'](https://www.youtube.com/watch?v=oWxqb4Nov78&t=1s) (Y salí [a la calle] y le dije: 'Oye imbécil, fíjate que hay niños pequeños!)\n",
    "\n",
    "> [... Pero no ha llegado nadie, parece que la **wea** no va! ](https://youtu.be/SvVr7esPKIQ?t=162) (...Pero no ha llegado nadie [aún], parece que la fiesta[situación / evento] no va)\n",
    "\n",
    "#### "
   ]
  },
  {
   "cell_type": "markdown",
   "id": "44ae7a3a",
   "metadata": {},
   "source": [
    "##### \n",
    "### Bienvenidos a todos los ~weones~ amigos del mundo!\n",
    "\n",
    "En este cuadernillo aprenderemos lo básico para poder interpretar y entender oraciones provenientes de los chilenos y de los que hablan como chilenos. La idea es que puedas entender el léxico básico de las oraciones con **weón** para poder adentrarnos a gramáticas que puedan generar/ interpretar y validar los posibles contextos y significados que pueda tener este modismo. \n",
    "\n",
    "> En estos primeros tres notebooks te enseñaré las definiciones de forma coloquial. Los siguientes notebooks explicaran los conceptos usando lingüística computacional.\n",
    "\n",
    "**NO TE ASUSTES**, por ahora me pondré el delantal de parvulario para enseñarles a ustedes mis beibis.\n",
    "\n",
    "### \n",
    "\n",
    "Puedes ver algunas buenas guías previas antes de entrar a detalles:\n",
    "- https://www.reddit.com/r/BeelcitosMemes/comments/r7zhvn/vlascko_explic%C3%A1ndole_a_beelce_que_significa_weon/\n",
    "\n",
    "- https://matadornetwork.com/es/expresiones-esenciales-que-tienes-que-dominar-antes-de-visitar-chile/\n",
    "#### "
   ]
  },
  {
   "cell_type": "markdown",
   "id": "88cd677a",
   "metadata": {},
   "source": [
    "> ### **Weon, más que una palabra, es comunicación estratégica para los veloces y perspicaces de la palabra.**\n",
    "> - Fabián Catalán V.\n"
   ]
  },
  {
   "cell_type": "markdown",
   "id": "b4cd61b0",
   "metadata": {},
   "source": [
    "## Definición y uso de weón\n",
    "\n",
    "Modismo chileno perteneciente al *chilenismo*, que expresa sujetos, elementos, situaciones y descalificaciones según cómo esté conformada en las frases que le contengan. Su interpretación se puede tornar **muy negativa** y puede **generar un mal trato al sujeto**, dependiendo de la comunicación no verbal que le exprese e intencione."
   ]
  },
  {
   "cell_type": "markdown",
   "id": "3852f797",
   "metadata": {},
   "source": [
    "\n",
    "### Se usa para: \n",
    "\n",
    "- Referirse a un sujeto (es sustantivo) $\\texttt{ [!] para objetos no-animados o situaciones, se emplea 'weá'}$\n",
    "- Descalificar (adjetivo -des-calificativo) hacia un sujeto.\n",
    "- Expresar sorpresa o asombro.\n",
    "- Uso neutro, como una muletilla (puede ser precedido por la muletilla **'po'**)\n",
    " "
   ]
  },
  {
   "cell_type": "markdown",
   "id": "7a40dccd",
   "metadata": {},
   "source": [
    "### \n",
    "Empezaremos de inmediato analizando la frase **'Este weon no puede ser más weon'**\n",
    "\n",
    "- 'Este weon' $\\Rightarrow$ se refiere a un sujeto (2° persona singular)\n",
    "- 'no puede ser más weón' $\\Rightarrow$ se refiere a que no puede ser más tonto / bobo / inútil.\n",
    "\n",
    "El primer -weon- se identifica como sustantivo porque está precedido de un **Adjetivo demostrativo de interlocutor** (ese) $\\texttt{english: this weon (if a person) -> this guy, this bro, ...}$\n",
    "\n",
    "El segundo -weón- esta precedido por una frase que contiene el verbo **ser**, que convierte a esta partícula  como un adjetivo descalificativo. (ser weon / eres weon / ser bobo / eres tonto) $\\texttt{english: you are weon, you are stupid, u r idiot}$\n",
    "\n",
    "### Caso neutro y sorpresa:\n",
    "\n",
    "Ej: 'Oh weon, seré weón, tenía que entregar el informe, weon'\n",
    "\n",
    "- 'Oh weon' $\\Rightarrow$ expresión de asombro / impresión\n",
    "- 'seré weón' $\\Rightarrow$ descalificación personal (contiene conjugación del verbo SER) y autocrítica por alguna situación.\n",
    "- '..., weón' $\\Rightarrow$  un weon usado al final puede ser una muletilla del interlocutor de cierre de frase.\n",
    "\n",
    "#### "
   ]
  },
  {
   "cell_type": "markdown",
   "id": "692cb07b",
   "metadata": {},
   "source": [
    "### No se debe usar...\n",
    "\n",
    "Cuando no hay confianza mínima o un lazo de confianza aceptable entre los participantes presentes. Tratar de weon, o referirse a alguien como 'weon' es un insulto que no todos aceptan, en menor medida, si no hay cercanía o amistad madurada.\n",
    "\n",
    "Si eres extranjero y hablas usando weón, ten mucho cuidado con quién lo practicas.\n",
    "### "
   ]
  },
  {
   "cell_type": "markdown",
   "id": "c4e2eee5",
   "metadata": {},
   "source": [
    "## Diminutivos ablandan oraciones con weon.\n",
    "#### \n",
    "\n",
    "Usar diminutivos en frases con weón sirven para minorizar, suavizar, encariñar o darle un toque tierno a una oración. Sin embargo, la comunicación no verbal, el vínculo entre los participantes y el contexto previo podría generar efectos contrarios para los participantes.\n",
    "\n",
    "Algunos diminutivos comunes que he oido son: 'ito', 'ita', 'dito','dita',\n",
    "\n",
    "- 'Ese weon*cito* me prometió traerme mi cd de vuelta.'\n",
    "- 'oye weona'ita, se te quedó el cuaderno, pero acá te lo traje weoncita ' (/*)\n",
    "\n",
    "\n",
    "#### "
   ]
  },
  {
   "cell_type": "markdown",
   "id": "bafbe46d",
   "metadata": {},
   "source": [
    "## Weón es sensible al **género percibido** del sujeto\n",
    "#### \n",
    "Weón puede adaptarse según el género percibido del sujeto, del contexto y de la intencionalidad de la oración.\n",
    "\n",
    "**weón** puede representar un sujeto que se percibe masculino, como también algo o alguien que se percibe neutral (non-binary).\n",
    "Por otro lado, **weona** representa a un sujeto que se percibe como femenino/femenina.\n",
    "\n",
    "$$\\texttt{- NOTA 1: Defino género neutral como humanos no binarios o seres vivos no humanos.}$$\n",
    "$$\\texttt{- NOTA 2: Seres vivos no humanos con dimorfismo sexual evidente, puede catalogarse por su género percibido.}$$\n",
    "\n",
    "- Aquí estás, mi weón favorito.. la mejor bacteria del laboratorio. [neutral]\n",
    "- weón, tu señora te esta siendo infiel. [posible masculino*]\n",
    "- Que soy weona, estoy con la regla y me vestí de falda blanca! [femenin-]\n",
    "- Como estás weoncita, tus pétalos estan hermosos! [neutral / femenino]\n",
    "\n",
    "\n",
    "#### "
   ]
  },
  {
   "cell_type": "markdown",
   "id": "cd946390",
   "metadata": {},
   "source": [
    "## Weón es afectado por la cantidad de sujetos de referencia.\n",
    "\n",
    "- Para oraciones con referencia  a sujetos individuales (singulares) (yo, tu, el) se mantiene **weón / weona.**\n",
    "- Para sujetos plurales (nosotros, ellos) se emplea **weones / weonas**\n",
    "- Para objetos inanimados, situaciones y elementos materiales plurales (esos, aquellos,...) se emplea **weás** (\\*)\n",
    "\n",
    "> (\\*) **weá** se verá con mas detalle en el siguiente notebook\n",
    "\n",
    "#### "
   ]
  },
  {
   "cell_type": "markdown",
   "id": "8f2ec376",
   "metadata": {},
   "source": [
    "## Weón puede usarse como adjetivo para conjugar frases con el verbo ser\n",
    "#### \n",
    "Sin embargo, cuando se usa como adjetivo descalificativo, pasa a llamarse **aweona/o**. Por definición, esta partícula aweon pasa a ser un pseudo-verbo que representa el efecto de ser o hacer algo estúpido. Más detalles del origen y el porqué de esto, se verán en el siguiente notebook."
   ]
  },
  {
   "cell_type": "code",
   "execution_count": 5,
   "id": "9dd4f14e",
   "metadata": {},
   "outputs": [
    {
     "name": "stdout",
     "output_type": "stream",
     "text": [
      "yo me aweono\n",
      "tú te aweonas / ai\n",
      "el se aweona\n",
      "nosotros nos aweonamos\n",
      "ellos se aweonan\n",
      "voh (te) aweonai\n"
     ]
    }
   ],
   "source": [
    "wn.simplePresent(wn._aweon)"
   ]
  },
  {
   "cell_type": "markdown",
   "id": "e47e1ba3",
   "metadata": {},
   "source": [
    "###  \n",
    "## Polarización de una partícula weon\n",
    "### \n",
    "Puede ser neutra, positiva o negativa, dependiendo del contexto, de la intención y de cómo esté formada la oración."
   ]
  },
  {
   "cell_type": "markdown",
   "id": "e67c5f8c",
   "metadata": {},
   "source": [
    "### Polarización negativa\n",
    "\n",
    "Para los casos ya mencionados, weón tendrá polaridad negativa pues le da un atributo negativo al sujeto / situación, o le resta importancia a su existencia."
   ]
  },
  {
   "cell_type": "markdown",
   "id": "4e1ecd25",
   "metadata": {},
   "source": [
    "### Polarización neutra\n",
    "#### \n",
    "Es neutro cuando sirve como acompañante o identifica a un sujeto de confianza o cercanía. Es usado generalmente como muletilla, y podría ser acompañado o ser sustituto de la muletilla **'po'**\n",
    "\n",
    "> 'Buena weon, cómo estás?'\n",
    "\n",
    "weón aca es un sujeto. Como la oración es un saludo neutro y además identifica a un sujeto de cercanía, entonces la partícula weón es neutro.\n",
    "\n",
    "> [versión 1] Y asi fue como pasó eso, weon.\n",
    "\n",
    "> [versión 2] Y asi fue como pasó eso, **po'** weon. (*po' weon es una muletilla usada en ciertas partes del territorio chileno. Se pronuncia aspirando la 'o' del po:* **p'-güeón** o **p'-güón** ('p-won')\n",
    "\n",
    "acá, weon / po' weón, se identifica como muletilla de cierre de frase, no aporta sentido ni información alguna, al menos, en esta frase, por lo tanto la catalogamos como neutro.\n",
    "\n",
    "Para el primer saludo, también se puede hacer combinaciónes de muletillas neutras:\n",
    "\n",
    "> 'Buena weon, cómo estás?'\n",
    "\n",
    "> 'Buena po', cómo estái?'\n",
    "\n",
    "> 'Buena po' weon, cómo estái?'\n",
    "\n",
    "### "
   ]
  },
  {
   "cell_type": "markdown",
   "id": "546026d1",
   "metadata": {},
   "source": [
    "### Polarización positiva\n",
    "\n",
    "La partícula es positiva según el contexto de la frase y la confianza entre los pares. Si se expresa felicidad, felicitación o alguna situación favorable o ventajosa para los individuos, entonces la partícula weón también lo será.\n",
    "\n",
    "> Que bien weón, te felicito por tu logro!\n",
    "\n",
    "> De verdad?, te fue super bien, weón!\n",
    "\n",
    "#### Acotación: \n",
    "Fonéticamente no se escucha bien combinar las muletillas po en frases con polaridad positiva, suena demasiado inculto. Si se quiere usar una muletilla neutra en una frase positiva, entonces solo se escogerá una: po'h o weón.\n",
    "> Que bien po', te felicito por tu logro!\n",
    "\n",
    "> De verdad?, te fue super bien po'!\n"
   ]
  },
  {
   "cell_type": "markdown",
   "id": "614fbfc4",
   "metadata": {},
   "source": [
    "## **Fonética chilena**:\n",
    "> A veces los chilenos al pronunciar una palabra, se omite, cambia o 'aspira' algunas consonantes de la ultima sílaba, este efecto fonético se le llama [**elisión**](https://es.wikipedia.org/wiki/Espa%C3%B1ol_chileno).\n",
    "\n",
    "> Se dice que un verbo está con [**voseo**](https://es.wikipedia.org/wiki/Voseo) si tal verbo se le expresa a una segunda persona singular (tu/vos), y esto afecta a sus conjugaciones.\n",
    "\n",
    "\n",
    "> ### Elisión de la 'D' y voseo en verbos:\n",
    "    Ej: que arregladito que estás!, se pronuncia: Qué arregla**'ito** que est**ai**\n",
    "    \n",
    "y mucho más, en el artículo de wikipedia de [Español Chileno](https://es.wikipedia.org/wiki/Espa%C3%B1ol_chileno)"
   ]
  },
  {
   "cell_type": "markdown",
   "id": "edd57408",
   "metadata": {},
   "source": []
  },
  {
   "cell_type": "markdown",
   "id": "521e479d",
   "metadata": {},
   "source": [
    "#### \n",
    "## Siguiente notebook: [Weón y wea no es lo mismo!](https://github.com/fkatv/pyweon/blob/master/2.%20We%C3%B3n%2C%20we%C3%A1%20y%20aweonao%20no%20es%20lo%20mismo!.ipynb)"
   ]
  }
 ],
 "metadata": {
  "kernelspec": {
   "display_name": "Python 3",
   "language": "python",
   "name": "python3"
  },
  "language_info": {
   "codemirror_mode": {
    "name": "ipython",
    "version": 3
   },
   "file_extension": ".py",
   "mimetype": "text/x-python",
   "name": "python",
   "nbconvert_exporter": "python",
   "pygments_lexer": "ipython3",
   "version": "3.8.8"
  }
 },
 "nbformat": 4,
 "nbformat_minor": 5
}
