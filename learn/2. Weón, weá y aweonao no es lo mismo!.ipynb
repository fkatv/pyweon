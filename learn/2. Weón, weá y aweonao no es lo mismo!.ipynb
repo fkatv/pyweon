{
 "cells": [
  {
   "cell_type": "markdown",
   "id": "0c9460ee",
   "metadata": {},
   "source": [
    "# Weón, weá y aweonao no es lo mismo, sin embargo, ...\n",
    "#### \n",
    "\n",
    "### Similitudes: \n",
    "> - weon, wea y aweonao son descalificativos si se acompañan de una conjugación del verbo ser.\n",
    "> - Les llamaremos *partículas* de una oración.\n",
    "> - Puede ser sustantivo, si dicha partícula hace referencia a algo o alguien.\n",
    "> - Son sensibles al número de sujetos que se le involucran (singular o plural)\n",
    "> - Se puede ampliar la intensidad de la situación o contexto si al pronunciar se le alarga intencionalmente alguna de sus últimas letras. El uso fonético requiere mucha práctica y discernimiento de cuando usarlo.\n",
    "\n",
    "### Diferencias: \n",
    "\n",
    "> - **weon** es para seres vivos, **weá** para objetos y situaciones, **aweonao** es adjetivo descalificativo y *pseudo-verbo*.\n",
    "> - Aunque reemplazan a un sujeto u objeto, el uso de uno u otro impacta en la intensidad de negatividad de la oración.\n",
    "> - Sólo aweonao se puede conjugar y variar según el tiempo de conjugación. Weon y wea son invariantes a la conjugación.\n",
    "> - Fonéticamente, weón es palabra aguda, aweonao es palabra aguda en ciertos casos: uso en género femenino y algunas conjugaciones y wea tiene distintos significados y usos según como se le pronuncie: **güeá(s)** o **güéa(s)**"
   ]
  },
  {
   "cell_type": "markdown",
   "id": "fbf05333",
   "metadata": {},
   "source": [
    "<h1 style=\"color: '#FECD1A\"> Partícula wea </h1>"
   ]
  },
  {
   "cell_type": "markdown",
   "id": "95095b78",
   "metadata": {},
   "source": [
    "## Qué es weá?\n",
    "\n",
    "Es una palabra descalificativa e invariante al tiempo de conjugación que reemplaza cualquier objeto inanimado, material, situaciones, acciones o eventos y se pronuncia **güeáh**. Puede ser afectado por la cantidad de elementos, Si hay **pluralidad de elementos**, se escribe weás y se pronuncia  **güeás**\n",
    "\n",
    "> 'Te regreso tu wea, no encendió aunque le hice un montón de weás para que funcionara'\n",
    "\n",
    "- 'Te regreso tu wea, $\\Rightarrow$ wea es un **objeto material**\n",
    "\n",
    "- '[...] un montón de weás para que funcionara' $\\Rightarrow$  weás es un **conjunto de acciones** que hizo el emisor para arreglar el objeto devuelto.\n",
    "\n",
    "### \n",
    "### Weá y weás puede tener diminutivos para suavizar la oración\n",
    "\n",
    "> Mi weaita tiene sus tiempos muertos. //weaita -> objeto\n",
    "\n",
    "> Agarra tus weaitas y vete de acá. // weaitas -> conjunto de cosas.\n",
    "\n",
    "####  \n",
    "### Puede representar a los testículos si:\n",
    "\n",
    "Wea y weas se pronuncia **güéa** y **güéas** y su frase que la contiene posee un artículo posesivo o un artículo indefinido.\n",
    "\n",
    "> Me pica una wea.\n",
    "\n",
    "> Mis weas van acaloradas.\n",
    "\n",
    "> Me pateaste las weas, conchetumareee\n",
    "\n",
    "Si se usa en singular y junto a una conjugación del verbo ser, representa un adjetivo descalificativo hacia un sujeto. Es un homólogo de 'boludo', tonto, estúpido.\n",
    "\n",
    "> Para qué le contaste a mi mamá!, erís muy wéa.\n",
    "\n",
    "### Weas (*güéas*) es adjetivo descalificativo si:\n",
    "\n",
    "La frase que la contiene tiene una conjugación del verbo ser, y representa a una mala(s) persona(s) o a una mala(s) situación(es)\n",
    "\n",
    "> Aunque te traté con atención, fuiste como las weas conmigo."
   ]
  },
  {
   "cell_type": "markdown",
   "id": "cbd0d529",
   "metadata": {},
   "source": [
    "####  \n",
    "<h1 style=\"color: '#FECD1A\">Partícula aweonao (aweon*) </h1>"
   ]
  },
  {
   "cell_type": "markdown",
   "id": "6ca0f666",
   "metadata": {},
   "source": [
    "## Qué es aweonao?\n",
    "\n",
    "Es un adjetivo descalificativo variante de weón (reemplaza sujetos, seres vivos). Para todos los casos en que se use, representa una descalificación directa hacia el sujeto. Usar esta partícula, negativiza demasiado una situación donde se le pronuncie (*a menos que en el lugar donde se use esté normalizado hablar con garabaterías*)\n",
    "\n",
    "> ### Podemos decir que, usar *aweonao* es más negativo que usar *weón*.\n",
    "\n",
    "Es sensible al genero percibido en el/los sujeto(s). **Aweoná** para sujetos femeninos y **Aweonao** para sujetos masculinos y neutros.\n",
    "\n",
    "Puede ser afectado por la cantidad de elementos, Si hay **pluralidad de elementos**, se escribe **aweonaos /aweonás**\n",
    "\n",
    "Se puede usar diminutivos en la conjugación de aweonao/a y la forma en que se le pronuncie puede empeorar aún más el insulto. Según mi percepción, usar diminutivos sobre aweonaos es demasiado cursi / freak, y es muy de bully usarlo porque dennosta demasiado al sujeto, no lo recomiendo.\n",
    "\n",
    "#### \n",
    "\n",
    "<div> La partícula que usaremos para aweonao y sus variantes será: </div>\n",
    "<h2 style=\"color: 'crimson\">Aweon*</h2>\n",
    "\n",
    "### \n",
    "\n",
    "#### Algunos ejemplos prácticos y cotidianos.\n",
    "\n",
    "> 'Pero aweonao, cómo se te fue a quedar la llave adentro de la casa!' \n",
    "\n",
    "> 'Mira ese gatito, que es aweonao, se cayó del sillón' \n",
    "\n",
    "> 'Aweoná, otra vez volviste con el infeliz de tu ex...'\n",
    "\n",
    "> 'Pasaron muchas weas aweonás en esa fiesta'\n",
    "\n",
    "\n",
    "\n",
    "#### "
   ]
  },
  {
   "cell_type": "markdown",
   "id": "4d4d585e",
   "metadata": {},
   "source": [
    "### Aweon* puede conjugarse."
   ]
  },
  {
   "cell_type": "code",
   "execution_count": 1,
   "id": "aabc16cd",
   "metadata": {},
   "outputs": [],
   "source": [
    "from pywn import Wn\n",
    "wn = Wn()"
   ]
  },
  {
   "cell_type": "code",
   "execution_count": 2,
   "id": "3965d67e",
   "metadata": {},
   "outputs": [],
   "source": [
    "particula_aweon = wn._aweon"
   ]
  },
  {
   "cell_type": "code",
   "execution_count": 3,
   "id": "22af2be0",
   "metadata": {},
   "outputs": [
    {
     "name": "stdout",
     "output_type": "stream",
     "text": [
      "yo me aweono\n",
      "tú te aweonas / ai\n",
      "el se aweona\n",
      "nosotros nos aweonamos\n",
      "ellos se aweonan\n",
      "voh (te) aweonai\n"
     ]
    }
   ],
   "source": [
    "wn.simplePresent(particula_aweon)"
   ]
  },
  {
   "cell_type": "code",
   "execution_count": 4,
   "id": "f6b8fbec",
   "metadata": {},
   "outputs": [
    {
     "name": "stdout",
     "output_type": "stream",
     "text": [
      "yo me aweoné\n",
      "tú te aweonaste\n",
      "el se aweonó\n",
      "nosotros nos aweonamos\n",
      "ellos se aweonaron\n",
      "voh (te)aweonaste\n"
     ]
    }
   ],
   "source": [
    "wn.simplePast(particula_aweon)"
   ]
  },
  {
   "cell_type": "code",
   "execution_count": 5,
   "id": "d712651f",
   "metadata": {},
   "outputs": [
    {
     "name": "stdout",
     "output_type": "stream",
     "text": [
      "yo me aweoné\n",
      "tú te aweonarás\n",
      "el se aweonará\n",
      "nosotros nos aweonaremos\n",
      "ellos se aweonarán\n",
      "voh (te) aweonai\n"
     ]
    }
   ],
   "source": [
    "wn.simpleFuture(particula_aweon)"
   ]
  },
  {
   "cell_type": "markdown",
   "id": "9de162bc",
   "metadata": {},
   "source": [
    "### \n",
    "\n",
    "## Siguiente lección: [Del verbo weón, señores!](https://github.com/fkatv/pyweon/blob/master/learn/3.%20Del%20verbo%20we%C3%B3n%2C%20se%C3%B1ores!.ipynb)"
   ]
  },
  {
   "cell_type": "markdown",
   "id": "f4a710fa",
   "metadata": {},
   "source": [
    "\n",
    "#### "
   ]
  }
 ],
 "metadata": {
  "kernelspec": {
   "display_name": "Python 3",
   "language": "python",
   "name": "python3"
  },
  "language_info": {
   "codemirror_mode": {
    "name": "ipython",
    "version": 3
   },
   "file_extension": ".py",
   "mimetype": "text/x-python",
   "name": "python",
   "nbconvert_exporter": "python",
   "pygments_lexer": "ipython3",
   "version": "3.8.8"
  }
 },
 "nbformat": 4,
 "nbformat_minor": 5
}
