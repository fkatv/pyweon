{
 "cells": [
  {
   "cell_type": "code",
   "execution_count": 1,
   "id": "28dc0d64",
   "metadata": {},
   "outputs": [],
   "source": [
    "from pywn import Wn\n",
    "wn = Wn()"
   ]
  },
  {
   "cell_type": "markdown",
   "id": "9401bbc8",
   "metadata": {},
   "source": [
    "# El weon Negativo $[wn ^ {-}]$\n",
    "\n",
    "Comenzamos con el uso del weon en frases y contextos negativos. Cabe mencionar que hay partículas gramaticales que le dan mas fuerza/violencia a las frases.\n",
    "\n",
    "Antes de eso, debemos saber la conjugación del verbo SER"
   ]
  },
  {
   "cell_type": "markdown",
   "id": "e24ff604",
   "metadata": {},
   "source": [
    "### Conjugación del verbo SER con chilenismos aplicados"
   ]
  },
  {
   "cell_type": "code",
   "execution_count": 2,
   "id": "a5208895",
   "metadata": {},
   "outputs": [
    {
     "name": "stdout",
     "output_type": "stream",
     "text": [
      "['soy', 'eres', 'es', 'somos', 'son', 'fui', 'fuiste', 'fue', 'fuimos', 'fueron', 'jui', 'juiste', 'jue', 'juimos', 'jueron', 'soi', 'eris', 'erih', 'erís', 'erai', 'eramos']\n"
     ]
    }
   ],
   "source": [
    "conj_ser = wn._CONJ_SER\n",
    "print(conj_ser)"
   ]
  },
  {
   "cell_type": "markdown",
   "id": "a81a61b7",
   "metadata": {},
   "source": [
    "### Weón como Adjetivo calificativo negativo $(ADJ) ^ {-}$\n",
    "\n",
    "Un adjetivo calificativo es cualquier palabra que le da un atributo a un sujeto de la oración. El weón puede pasar a ser un calificativo negativo que representaría a una persona con baja autoestima, despistada, desorientada, persona que toma malas desiciones, y un sinfin de calificativos vejativos que pueden hacer arder una ocasión, un momento, como también puede originar peleas o hacer valer disgustos.\n",
    "\n",
    "**Definición formal**\n",
    "\n",
    "Para una frase $f$ que contenga una conjugación del verbo **SER** $Conj_{ser}$, transforma a la posterior palabra weón como adjetivo calificativo, representando esta condición $S^-$ como:\n",
    "\n",
    "$$f \\ni  Conj_{ser} = S^{-}$$\n",
    "\n",
    "> Recordar que una frase básica dentro de una oración está conformada por: $$ f = Sujeto + Verbo + (Adjetivo)^*$$ donde Verbo puede estar conjugado, para este caso necesitamos que sea conjugación del verbo Ser. $Conj_{ser}$\n",
    "\n",
    "Analizaremos en tres casos una serie de ejemplos para determinar la generalización de $(ADJ) ^ {-}$"
   ]
  },
  {
   "cell_type": "markdown",
   "id": "bcdb56c8",
   "metadata": {},
   "source": [
    "### Caso 1: \n",
    "\n",
    "#### $\\Large\\ [wn^-] \\texttt{ es }(ADJ)^{⁻} \\texttt{ si}:$\n",
    "\n",
    "- 1.1: $$ \\Large\\exp = S^{-} [wn^{-}] F^{\\epsilon, \\phi, -, +}$$"
   ]
  },
  {
   "cell_type": "markdown",
   "id": "7bfacdc8",
   "metadata": {},
   "source": [
    "$ \\Large \\lambda_1  =  \\texttt{Patana, erís muy aweonah.}$\n",
    "\n",
    "$ \\Large\\exp_1 = S^{-} [wn^{-}] F^{\\epsilon } $\n",
    "\n",
    "* **Sujeto**: Patana\n",
    "* **Conjugacion**: erís (conjugación en presente de 2da persona en chilenismo)\n",
    "* **Adverbio**: muy (complemento del adjetivo negativo $(ADJ^-)$)\n",
    "* **$[wn^-] \\to (ADJ^-)$**: aweonah (es un adjetivo femenino explícito de *weona*)\n",
    "* **$F^{\\epsilon }$** = $\\texttt{ f de épsilon significa que no hay mas frases} $"
   ]
  },
  {
   "cell_type": "markdown",
   "id": "3aa7bc0a",
   "metadata": {},
   "source": [
    "$ \\Large \\lambda_2  =  \\texttt{Fuí tan weon en ese partido de basketball} $\n",
    " \n",
    "$ \\Large\\exp_2 = S^{-} [wn^{-}] F^{\\phi }$\n",
    "\n",
    "* **Sujeto**: Yo\n",
    "* **Conjugacion**: Fuí \n",
    "* **Adverbio**: tan (complemento del adjetivo negativo $(ADJ^-)$)\n",
    "* **$[wn^-] \\to (ADJ^-)$**: weón (es un adjetivo masculino de *weon*, véase como sinónimo de bobo, lerdo, inutil, novato, ...)\n",
    "* **$F^{\\phi }$** = $\\texttt{ en ese partido de basketball. ( } \\phi \\texttt{: frase neutra)}$"
   ]
  },
  {
   "cell_type": "markdown",
   "id": "5c2a37ac",
   "metadata": {},
   "source": [
    "$ \\Large \\lambda_3  =  \\texttt{Fuimos super weones al ver que no compramos pan}$\n",
    "\n",
    "$ \\Large\\exp_3 = S^{-} [wn^{-}] F^{-}  $\n",
    "\n",
    "* **Sujeto**: Nosotros\n",
    "* **Conjugacion**: Fuimos\n",
    "* **Adverbio**: super (complemento chileno de exageracion/exacerbación del adjetivo negativo $(ADJ^-)$)\n",
    "* **$[wn^-] \\to (ADJ^-)$**: weones (es un adjetivo plural masculino/neutro de *weon*),\n",
    "* **$F^{- }$** = $\\texttt{ al ver que no compramos pan. ( } - \\texttt{: frase negativa)}$"
   ]
  },
  {
   "cell_type": "markdown",
   "id": "6547838c",
   "metadata": {},
   "source": [
    "$ \\Large \\lambda_4 =  \\texttt{Aunque a veces soi weon, igual te quiero.}$\n",
    "\n",
    "$ \\Large\\exp_4 = S^{-} [wn^{-}] F^{+}  $\n",
    "\n",
    "* **Sujeto**: Tu\n",
    "* **Conjugacion**: soi (variación chilena del voseo *sos*, que representa el 'eres', se puede pronunciar como sohh [un sos donde se corta la ultima 'ese'] )\n",
    "* **Adverbio**: a veces (adverbio de tiempo que complementa al adjetivo negativo $(ADJ^-)$)\n",
    "* **$[wn^-] \\to (ADJ^-)$**: weón (es un adjetivo singular masculino de 2° persona de *weon*, significa inhábil, estúpido, tonto, ...),\n",
    "* **$F^{+ }$** = $\\texttt{ igual te quiero.} \\texttt{ ( + : frase positiva)}$"
   ]
  },
  {
   "cell_type": "markdown",
   "id": "f2c2709c",
   "metadata": {},
   "source": [
    "# Axioma Principal:\n",
    "\n",
    "$$\\Large \\{ F^-,F^+, F^\\phi, F^\\epsilon \\} \\in F^* $$\n",
    "$$\\Large F^{\\Omega} = F^* - \\{ F^\\epsilon \\} $$\n",
    "$$\\Large \\forall f \\in  \\lambda, \\lambda \\ne \\phi, f = F^\\Omega  $$\n",
    "$$\\Large \\exists \\{ [wn] \\} \\subset \\lambda \\texttt{  /  } \\forall f \\in  \\lambda,  \\texttt{  /  } f \\notin [wn] $$\n",
    "\n",
    ">$\\Large F^*$ puede ser una frase negativa, positiva, neutra o nula. El asterísco (\\*) representa la [estrella de Kleene](https://es.wikipedia.org/wiki/Clausura_de_Kleene), una operación en cadenas de texto donde se pueden generar caracteres aleatorios que esten en un lenguaje, incluso, puede ser un texto nulo (vacío, en blanco).\n",
    "\n",
    ">$F^\\Omega $ es el conjunto de frases polares no nulas\n",
    "\n",
    ">Para toda frase $f$ en una oración $\\lambda$ no nula, se tiene que una oración es un conjunto de frases y  cada frase es una frase no nula $F^\\Omega$\n",
    "\n",
    "> Existen partículas de weón contenidas en en una oración  $\\lambda$, se tiene que las frases que la conforman no contienen la partícula $[wn]$\n",
    "\n"
   ]
  },
  {
   "cell_type": "markdown",
   "id": "bf65cd7d",
   "metadata": {},
   "source": [
    "Del cuadernillo anterior:\n",
    "\n",
    "$$\\Large \\lambda = exp(f, [wn^{polaridad}] ) = exp$$\n",
    "\n",
    "podemos tomar exp para transformar una partícula de weon en un adjetivo calificativo:\n",
    "#### \n",
    "\n",
    "$$\\Large exp_{ [wn^-] \\to (ADJ^-) } = \\omega ^{(ADJ^-)} $$\n",
    "\n",
    "Y asumir esta expresión regular como un subconjunto de $exp$ pues  $\\Large \\omega ^{(ADJ^-)}$ representa una transformación de una partícula de weon a adjetivo.\n",
    "$$\\Large \\omega ^{(ADJ^-)} \\subset exp $$\n"
   ]
  },
  {
   "cell_type": "markdown",
   "id": "3ed112ac",
   "metadata": {},
   "source": [
    "Reescribiendo los ejemplos anteriores, quedarían descritos como:\n",
    "\n",
    "$\\Large\\exp_1 = \\omega_1 ^{(ADJ^-)} =  S^{-} [wn^{-}] F^{\\epsilon }$\n",
    "\n",
    "$\\Large\\exp_2 = \\omega_2 ^{(ADJ^-)} = S^{-} [wn^{-}] F^{\\phi }$\n",
    "\n",
    "$\\Large\\exp_3 = \\omega_3 ^{(ADJ^-)} = S^{-} [wn^{-}] F^{-} $\n",
    "\n",
    "$\\Large\\exp_4 = \\omega_4 ^{(ADJ^-)} =  S^{-} [wn^{-}] F^{+}$\n",
    "\n",
    "$$\\Large \\therefore \\omega ^{(ADJ^-)} = S^{-} [wn^{-}] F^{*} $$\n",
    "\n",
    "> La expresion que transforma la palabra weon en Adjetivo (des)calificativo está dada por la expresión omega, dicha expresión esta definido por un $S^-$ junto a un $wn^{-}$ y una combinación posterior de frases $F^*$ para este primer caso de estudio."
   ]
  },
  {
   "cell_type": "markdown",
   "id": "63621e26",
   "metadata": {},
   "source": [
    "## Caso 1.2 (poco usual):\n",
    "$$ \\Large \\omega ^{(ADJ^-)} = [wn^{-}] S^{-} (F^*)^* $$\n",
    "\n",
    "Se transforma si la frase comienza con una particula de weon seguido por una frase S con verbo conjugado de ser y un conjunto de frases $F^*$ (podria ser nulo)"
   ]
  },
  {
   "cell_type": "markdown",
   "id": "62a53027",
   "metadata": {},
   "source": [
    "$\\Large \\lambda_5 = \\texttt{ Weón fuí, porque la llave se me quedó dentro de la casa. }$\n",
    "\n",
    "$\\Large \\omega_5^{(ADJ^-)} = [wn^-] S^- F_{causal}^-$ //weon: despistado, distraido, tontito."
   ]
  },
  {
   "cell_type": "markdown",
   "id": "5557b026",
   "metadata": {},
   "source": [
    "## Frases de acciones de causa-efecto inciden en el significado de weón\n",
    "\n",
    "Sea un $F_{c}^-$ una frase de causalidad de un evento desfavorable, describiendo un efecto negativo(consecuencia) en una frase $F_{e}^-$, y viceversa.\n",
    "Estos tipos de frases pueden convertir una palabra weon en Adjetivo calificativo. Estas frases podemos agregarla a un nuevo subconjunto de $F^*$, llamadas $F_{acc}^-$. Si no hay preposiciones de causalidad en una frase $F_{acc}^-$ entonces, no se puede **aweonizar** la partícula $[wn^-]$\n",
    "\n",
    "> ### CONCEPTO NUEVO: *Aweonizar*:\n",
    "> acción de convertir o catalogar a algo o alguien en estúpido\n",
    "\n",
    "## Definición:\n",
    "\n",
    "$$\\Large F_{acc}^- = \\{ F_{c}^-,F_{e}^- \\}$$\n",
    "$$\\Large F_{acc}^- \\subset F^* $$\n",
    "$$\\Large prepos_{causalidad} \\subset F_{acc}^- $$\n",
    "\n",
    "### Caso 2: \n",
    "\n",
    "#### $\\Large\\ [wn^-] \\texttt{ es }(ADJ)^{⁻} \\texttt{ si}:$\n",
    "\n",
    "- 2.1 $$ \\Large \\sigma ^{(ADJ^-)} = (F_{acc}^-)^+[wn^{-}](F_{acc}^*)^*$$: \n",
    "\n",
    "Significa que, para el lado izquierdo de weon, debe haber al menos una causa/efecto negativa y podría no haber más frases de acción causa-efecto a la derecha"
   ]
  },
  {
   "cell_type": "markdown",
   "id": "f878514a",
   "metadata": {},
   "source": [
    "$\\Large \\lambda_5 =  \\texttt{Nos quedamos sin gasolina, por weones!.}$\n",
    "\n",
    "$ \\Large\\ \\omega_5 = (F_{acc}^-)^+[wn^{-}](F_{acc}^-)^\\epsilon  $\n",
    "\n",
    "* **Sujeto**: Nosotros\n",
    "* **Efecto**: Nos quedamos sin gasolina\n",
    "* **Adverbio**: por (adverbio de causalidad)\n",
    "* **$[wn^-] \\to (ADJ^-)$**: weones (adjetivo plural de *weon*, es una pre-autocritica)\n",
    "* **$F^{\\epsilon }$** = $\\texttt{ f de épsilon significa que no hay mas frases} $"
   ]
  },
  {
   "cell_type": "markdown",
   "id": "8cae135f",
   "metadata": {},
   "source": [
    "f6 = Comimos poco en la fiesta, de weones que fuimos\n",
    "\n",
    "$f6 = F_e^⁻ F_c^- [wn^-]$ // weones: despavilados, poco oportunistas, apagados, lerdos.\n",
    "\n",
    "f7 = Por andar a pie descalzo me resfrié, por aweonao\n",
    "\n",
    "$f7 = F_c^⁻ F_e^- F_c^-[wn^-]$  //aweonao: gil, bruto, inconsciente, torpe\n",
    "\n",
    "f8 = Por aweonah te sacaron parte\n",
    "\n",
    "$f8 = F_c^⁻ [wn^-] F_e^- $ // aweonah: distraida, dispersa, \n",
    "\n",
    "f9 = Por weona me quedé sin llamar, se me descargó el celular porque anoche se me olvidó cargarlo.\n",
    "\n",
    "$f9 = F_c^⁻ [wn^-] F_e^- F_e^-  F_c^-$ //weona: pava, despavilada, olvidadiza, distraida, irresponsable\n",
    "\n",
    "\n"
   ]
  },
  {
   "cell_type": "markdown",
   "id": "3cebf51e",
   "metadata": {},
   "source": [
    "## Caso 3: aweonao\n",
    "\n",
    "Si hay cualquier combinación de frases con una partícula aweonao entre ellas, automáticamente convierte al sujeto en imbécil.\n",
    "\n",
    "La partícula **aweonao/a** se define como autodescriptiva, como un adjetivo calificativo negativo desde su definición. En singular, se aplica a frases de primera persona (yo, tu, el). en plural, se aplica a nosotros, ellos.\n",
    "\n"
   ]
  },
  {
   "cell_type": "code",
   "execution_count": 4,
   "id": "62060c19",
   "metadata": {},
   "outputs": [
    {
     "name": "stdout",
     "output_type": "stream",
     "text": [
      "yo me aweono\n",
      "tú te aweonas / ai\n",
      "el se aweona\n",
      "nosotros nos aweonamos\n",
      "ellos se aweonan\n",
      "voh (te) aweonai\n"
     ]
    }
   ],
   "source": [
    "awe = wn.simplePresent(wn._aweon)"
   ]
  },
  {
   "cell_type": "markdown",
   "id": "2d54cb11",
   "metadata": {},
   "source": [
    "$$\\Large Awe^-  = Conj(Aweon)$$\n",
    "$$\\Large Awe^- = (aweon)\\{ah,ao,é,aste,ó,amos,an,o,as,an,...\\} $$\n",
    "\n",
    "$$\\Large Awe^- \\subset [wn^-]$$\n",
    "\n",
    "\n",
    "En resumen, si hay una conjugación de **aweon**, incluso, una oración con solamente esta partícula, significa una ofensa al sujeto.\n",
    "\n",
    "$$\\Large \\omega^{ADJ^-} = (F^*)^* [Awe^-](F^*)^* $$"
   ]
  },
  {
   "cell_type": "markdown",
   "id": "29ee666a",
   "metadata": {},
   "source": [
    "### \n",
    "## Axioma 2: Sub-oraciones con particulas de weon definen a la oración principal\n",
    "\n",
    "[comment]: <> ($$\\Large S^{-} = f \\ni  Conj_{ser} $$)\n",
    "\n",
    "[comment]: <> ($$\\Large S^{-}[wn^-] \\to \\kappa, $$)\n",
    "\n",
    "> Sea kappa $\\kappa$ una sub-oración de la oración principal. En las sub-oraciones kappa hay partículas de weón.\n",
    "\n",
    "$$\\Large \\kappa \\subset \\lambda, [wn] \\in \\kappa $$\n",
    "\n",
    "> La sub-oración neutra $\\kappa^\\phi$ es una frase no nula sin partículas de weón. Aunque es una contradicción a su definición,se incluye como elemento neutro al conjunto kappa estrella\n",
    "\n",
    "$$\\Large F^\\Omega \\in \\kappa^\\phi  \\Rightarrow [wn] \\notin \\kappa^\\phi , \\kappa^\\phi \\in \\kappa^*$$\n",
    "\n",
    "> Se define una primera extensión de una oración $\\lambda$ que está conformada por un conjunto de sub-oraciones kappa $\\kappa$. Dichas sub-oraciones **pueden** contener partículas de weon, a diferencia de las frases $f$.\n",
    "\n",
    "$$\\Large \\lambda = \\kappa_1 \\cup \\kappa_2 \\cup  \\dotsc $$\n",
    "\n",
    "> Las suboraciones kappa están definidas, al igual que las oraciones lambda por expresiones regulares que la generan.\n",
    "\n",
    "$$\\Large \\kappa = exp $$\n",
    "\n",
    "> De todo lo anterior, podemos redefinir la oración original como la combinación de suboraciones kappa \n",
    "\n",
    "$$\\Large \\therefore \\lambda = \\kappa^* \\kappa^\\Omega \\kappa^*$$"
   ]
  },
  {
   "cell_type": "markdown",
   "id": "06468b6c",
   "metadata": {},
   "source": [
    "## \n",
    "\n",
    "## Generalizando $ \\omega^{ADJ^-}$\n",
    "\n",
    "####  \n",
    "Sea un  $\\Large \\omega^{ADJ^-} $ una expresión regular que reconoce una partícula de weon como un **adjetivo descalificativo** aplicado a una sub-oración  $\\Large \\kappa, \\kappa \\subset \\lambda.$ si se cumple una y solo una de las condiciones siguientes: \n",
    "\n",
    "$$\\Large \\omega^{ADJ^-} = S^⁻ [wn^-] $$\n",
    "$$\\Large \\omega^{ADJ^-} = [wn^-] S^-  $$\n",
    "$$\\Large \\omega^{ADJ^-} = (F_{acc}^-) [wn^-] (F^*) $$\n",
    "$$\\Large \\omega^{ADJ^-} = (F^*) [Awe^-](F^*) $$\n",
    "\n",
    "Por la definición del segundo axioma, la expresión regular que aweoniza una palabra, genera una suboración kappa que contiene partículas de weón.\n",
    "\n",
    "$$\\Large \\therefore \\omega^{ADJ^-} \\to \\kappa^\\Omega$$"
   ]
  }
 ],
 "metadata": {
  "kernelspec": {
   "display_name": "Python 3",
   "language": "python",
   "name": "python3"
  },
  "language_info": {
   "codemirror_mode": {
    "name": "ipython",
    "version": 3
   },
   "file_extension": ".py",
   "mimetype": "text/x-python",
   "name": "python",
   "nbconvert_exporter": "python",
   "pygments_lexer": "ipython3",
   "version": "3.8.8"
  }
 },
 "nbformat": 4,
 "nbformat_minor": 5
}
