{
 "cells": [
  {
   "cell_type": "code",
   "execution_count": 1,
   "id": "66896b8b",
   "metadata": {},
   "outputs": [],
   "source": [
    "from pywn import Wn\n",
    "wn = Wn()"
   ]
  },
  {
   "cell_type": "markdown",
   "id": "21f997b0",
   "metadata": {},
   "source": [
    "# Dinamismo y uso de la palabra *weon*\n",
    "\n",
    "> Antes de comenzar, debo aclarar que no se hará un análisis completo de las oraciones, sino que se buscarán ciertos patrones que puedan reemplazar palabras 'slang' o modismos en frases comunes del español chileno.\n",
    "\n",
    "Weeeena weon como andamos pa este curso? *(Hola amigo, estás preparado para este curso?)*\n",
    "\n",
    "Bienvenidos a este tutorial léxico y gramático de la palabra weón, sus variantes y sus usos según la gramática de la oración y su contexto.\n",
    "\n",
    "Se hará un modelado de expresiones gramaticales regulares (Jerarquía tipo-3 de Chomsky) para algunos usos de nuestra queridísima palabra multisignificado llamada **weón**"
   ]
  },
  {
   "cell_type": "markdown",
   "id": "390d5cc7",
   "metadata": {},
   "source": [
    "## Léxico y conjugación del weón"
   ]
  },
  {
   "cell_type": "code",
   "execution_count": 2,
   "id": "6f4f5f0d",
   "metadata": {},
   "outputs": [
    {
     "data": {
      "text/plain": [
       "['wn',\n",
       " 'weon',\n",
       " 'weón',\n",
       " 'weona',\n",
       " 'aweonao',\n",
       " 'aweonah',\n",
       " 'wea',\n",
       " 'weá',\n",
       " 'hueon',\n",
       " 'hueón',\n",
       " 'hueona',\n",
       " 'ahueonao',\n",
       " 'ahueonah',\n",
       " 'huea',\n",
       " 'hueá',\n",
       " 'gueon',\n",
       " 'gueón',\n",
       " 'gueona',\n",
       " 'agueonao',\n",
       " 'agueonah',\n",
       " 'guea',\n",
       " 'gueá']"
      ]
     },
     "execution_count": 2,
     "metadata": {},
     "output_type": "execute_result"
    }
   ],
   "source": [
    "wn._wn"
   ]
  },
  {
   "cell_type": "markdown",
   "id": "79ecb7ab",
   "metadata": {},
   "source": [
    "en la celda anterior se ven algunas combinaciones de weon sin conjugar. En la lista, se puede dividir en según su género:\n",
    "\n",
    "Para sujetos **femeninos**:\n",
    "$$\\Large [wn_{femenino}] = \\{ \\texttt{ wn, weona, aweonah, hueona, ahueonah, gueona, agueonah} \\}$$\n",
    "\n",
    "Para sujetos **masculinos**:\n",
    "$$\\Large [wn_{masculino}] = \\{ \\texttt{ wn, weon/ón, aweonao, hueon/ón, ahueonao, gueon/ón, agueonao} \\}$$\n",
    "\n",
    "Para sujetos, cosas o situaciones de tipo **neutral**:\n",
    "$$\\Large [wn_{neutral}] = \\{ \\texttt{ wn, wea, huea/á, guea/á} \\}$$"
   ]
  },
  {
   "cell_type": "markdown",
   "id": "e0a541a9",
   "metadata": {},
   "source": [
    "### \n",
    "## Definiendo el conjunto weon inicial\n",
    "\n",
    "$$\\Large [wn] = [wn_{femenino}] \\cup [wn_{masculino}] \\cup [wn_{neutral}] $$\n",
    "\n",
    "### "
   ]
  },
  {
   "cell_type": "markdown",
   "id": "60c6fad6",
   "metadata": {},
   "source": [
    "### Acotación de la partícula 'wn'\n",
    "\n",
    "Claramente, la palabra weon, se puede abreviar como **wn**\n",
    "El uso de wn como de weon/ón puede ser usado para sujetos sin distinción de género, según sea el caso"
   ]
  },
  {
   "cell_type": "markdown",
   "id": "1869e9a8",
   "metadata": {},
   "source": [
    "## Partícula '*aweonao*'\n",
    "\n",
    "Aweonao se define como un atributo negativo para un sujeto, gramaticalmente es un adjetivo calificativo en una oración.\n",
    "\n",
    "Esta partícula se puede conjugar y ser usada para describir situaciones que involucren sujetos.\n",
    "\n",
    "### Conjugaciones de aweonao"
   ]
  },
  {
   "cell_type": "code",
   "execution_count": 3,
   "id": "b99e1f94",
   "metadata": {},
   "outputs": [],
   "source": [
    "particula = wn._aweon"
   ]
  },
  {
   "cell_type": "code",
   "execution_count": 4,
   "id": "473c81fe",
   "metadata": {},
   "outputs": [
    {
     "name": "stdout",
     "output_type": "stream",
     "text": [
      "yo me  aweono\n",
      "tú te  aweonas / ai\n",
      "el se  aweona\n",
      "nosotros nos  aweonamos\n",
      "ellos se  aweonan\n",
      "voh (te)  aweonai\n"
     ]
    }
   ],
   "source": [
    "wn.simplePresent(particula)"
   ]
  },
  {
   "cell_type": "code",
   "execution_count": 5,
   "id": "9162043c",
   "metadata": {},
   "outputs": [
    {
     "name": "stdout",
     "output_type": "stream",
     "text": [
      "yo me  aweoné\n",
      "tú te  aweonaste\n",
      "el se  aweonó\n",
      "nosotros nos  aweonamos\n",
      "ellos se  aweonaron\n",
      "voh (te) aweonaste\n"
     ]
    }
   ],
   "source": [
    "wn.simplePast(particula)"
   ]
  },
  {
   "cell_type": "code",
   "execution_count": 6,
   "id": "b8287557",
   "metadata": {},
   "outputs": [
    {
     "name": "stdout",
     "output_type": "stream",
     "text": [
      "yo me  aweoné\n",
      "tú te  aweonarás\n",
      "el se  aweonará\n",
      "nosotros nos  aweonaremos\n",
      "ellos se  aweonarán\n",
      "voh (te)  aweonai\n"
     ]
    }
   ],
   "source": [
    "wn.simpleFuture(particula)"
   ]
  },
  {
   "cell_type": "markdown",
   "id": "912bf14c",
   "metadata": {},
   "source": [
    "## Claves para usar e interpretar \n",
    "\n",
    "Hay que tener en cuenta la gramática de la palabra. Por lo general, el chileno habla, conjuga y forma oraciones de mala manera. Sin embargo, para poder interpretar hay que poner atención a las preposiciones, adverbios y adjetivos de las frases.\n",
    "\n",
    "> El sentido de una oracion puede estar conformada por una o más frases unidas por palabras que las enlazan."
   ]
  },
  {
   "cell_type": "markdown",
   "id": "cce0b4be",
   "metadata": {},
   "source": [
    "### \n",
    "## Repaso de algunas partículas gramaticales\n",
    "### Preposiciones de lugar"
   ]
  },
  {
   "cell_type": "code",
   "execution_count": 7,
   "id": "5d1b0a46",
   "metadata": {},
   "outputs": [
    {
     "data": {
      "text/plain": [
       "['al lado de',\n",
       " 'alrededor de',\n",
       " 'cerca de',\n",
       " 'debajo de',\n",
       " 'delante de',\n",
       " 'dentro de',\n",
       " 'detrás de',\n",
       " 'encima de',\n",
       " 'enfrente de',\n",
       " 'fuera de',\n",
       " 'lejos de',\n",
       " 'en',\n",
       " 'entre',\n",
       " 'sobre',\n",
       " 'junto a',\n",
       " 'frente a']"
      ]
     },
     "execution_count": 7,
     "metadata": {},
     "output_type": "execute_result"
    }
   ],
   "source": [
    "wn._PREP_LUGAR"
   ]
  },
  {
   "cell_type": "markdown",
   "id": "d9b0a52f",
   "metadata": {},
   "source": [
    "### Preposiciones de causalidad"
   ]
  },
  {
   "cell_type": "code",
   "execution_count": 8,
   "id": "ff1bc055",
   "metadata": {},
   "outputs": [
    {
     "data": {
      "text/plain": [
       "['por',\n",
       " 'porque',\n",
       " 'a causa de',\n",
       " 'puesto que',\n",
       " 'ya que',\n",
       " 'pues',\n",
       " 'debido a',\n",
       " 'toda vez que']"
      ]
     },
     "execution_count": 8,
     "metadata": {},
     "output_type": "execute_result"
    }
   ],
   "source": [
    "wn._PREP_CAUSALIDAD"
   ]
  },
  {
   "cell_type": "markdown",
   "id": "ec7752f2",
   "metadata": {},
   "source": [
    "## Adverbios y adjetivos de proximidad, lejanía y proximidad del interlocutor.\n",
    "\n",
    "[https://espanol.lingolia.com/es/gramatica/adverbios](https://espanol.lingolia.com/es/gramatica/adverbios)\n"
   ]
  },
  {
   "cell_type": "code",
   "execution_count": 10,
   "id": "f8528280",
   "metadata": {},
   "outputs": [
    {
     "name": "stdout",
     "output_type": "stream",
     "text": [
      "['allí', 'allá']\n",
      "['aquel', 'aquella', 'aquellos', 'aquellas']\n"
     ]
    }
   ],
   "source": [
    "print(wn._ADVERBIO_LEJANIA)\n",
    "print(wn._ADJET_DEM_LEJANIA)"
   ]
  },
  {
   "cell_type": "markdown",
   "id": "f8411c10",
   "metadata": {},
   "source": [
    "####  \n",
    "# Polaridades y tonos de la expresión de weón\n",
    "#### \n",
    "Hablar español empleando la palabra weon requiere de cierta práctica para identificar el tono y la intención en la que se usa, inicialmente se torna dificil para personas que estan aprendiendo el idioma español. \n",
    "\n",
    "Existen 3 polaridades del weón en su uso cotidiano, definamos así: $\\texttt{polaridad = \\{ +, -, } \\phi \\texttt{ \\} }$\n",
    "\n",
    "Tenemos el weon **neutro** $[wn^\\phi]$, el weon **negativo** $[wn^-]$ y el weon **positivo** $[wn^+]$.\n",
    "\n",
    "Definimos que, cada una de las polaridades son contenidas en $[wn]$\n",
    "\n",
    "$$\\Large [wn^{polaridad}] \\supset [wn] $$\n",
    "\n",
    "Veremos en cada caso sus derivaciones y sus principales palabras y combinaciones que pueden originar su polaridad, pero antes es necesario entender la gramática que contiene las oraciones chilenas"
   ]
  },
  {
   "cell_type": "markdown",
   "id": "f72d0be2",
   "metadata": {},
   "source": [
    "#### \n",
    "# Definición de la gramática en una oración con partículas de weón.\n",
    "### \n",
    "\n",
    "Sea una oración $\\lambda$, un conjunto de frases anidadas que son definidas por una expresión regular $exp$ que se rige por la gramática del español chileno. Dichas frases pueden estar anidadas por conectores y por nuestra palabra **weon**. Se representará entonces, a una oración como:\n",
    "\n",
    "$$\\Large \\lambda = exp(f, [wn^{polaridad}] )$$\n",
    "\n",
    "Una frase dentro de una oración la definiremos sin la partícula *weón*, con el propósito de entender el significado que toma la partícula según como esté conformada la frase antes/después de weón.\n",
    "\n",
    "#### \n",
    "\n",
    "## Polaridad de las frases\n",
    "###  \n",
    "\n",
    "Cuando una frase tenga connotación negativa, entonces se describirá $f$ como $f = F^-$, \n",
    "Análogamente, para una frase positiva y para una frase neutra se definirá como $F^+$,  $F^\\phi$, respectivamente. Por definición de conjunto, la frase vacía (o fin de frase) se representa como $F^\\epsilon$\n",
    "\n",
    "Un ejemplo:\n",
    "\n",
    "$\\lambda = $ Lo íbamos pasando muy bien en la fiesta, hasta que hiciste el tremendo escándalo weon, quedaste como weon delante de mi mamá.\n",
    "\n",
    "> $\\Large \\lambda = F_1^+ F_2^⁻ [wn^-] F_3^\\phi[wn^-]F_4^\\phi F^\\epsilon$ \n",
    "\n",
    "> * $F_1^+ : $ Lo íbamos pasando muy bien en la fiesta\n",
    "> * $F_2^- : $ hasta que hiciste el tremendo escándalo\n",
    "> * $[wn^-] : $ 'amigo', 'bro' (segunda persona singular)\n",
    "> * $F_3^\\phi : $ quedaste como (verbo QUEDAR de estado y 'como' de descripción)\n",
    "> * $[wn^-] : $ 'tonto', 'estúpido','irresponsable'\n",
    "> * $F_4^\\phi : $ delante de mi mamá.\n",
    "> * $F_\\epsilon:$ Fin de la frase\n",
    "\n"
   ]
  },
  {
   "cell_type": "markdown",
   "id": "9bd42ae4",
   "metadata": {},
   "source": [
    "## Acotación final del cuardenillo:\n",
    "\n",
    "$$\\Large \\lambda = exp(f, [wn^{polaridad}] ) = exp$$\n",
    "\n",
    "En una oración, para expresar su expresión regular que la origina, llamaremos a esta última solamente como $exp$ para mejorar el entendimiento del desarrollo del curso.\n",
    "\n"
   ]
  }
 ],
 "metadata": {
  "kernelspec": {
   "display_name": "Python 3",
   "language": "python",
   "name": "python3"
  },
  "language_info": {
   "codemirror_mode": {
    "name": "ipython",
    "version": 3
   },
   "file_extension": ".py",
   "mimetype": "text/x-python",
   "name": "python",
   "nbconvert_exporter": "python",
   "pygments_lexer": "ipython3",
   "version": "3.8.8"
  }
 },
 "nbformat": 4,
 "nbformat_minor": 5
}
