{
 "cells": [
  {
   "cell_type": "code",
   "execution_count": 3,
   "id": "bd39c4ed",
   "metadata": {},
   "outputs": [],
   "source": [
    "from pywn import Wn\n",
    "wn = Wn()"
   ]
  },
  {
   "cell_type": "markdown",
   "id": "4d8f8612",
   "metadata": {},
   "source": [
    "# Cátedra fácil para entender el weón.\n",
    "\n",
    "### Autor: Fabián Catalán Vejar, chileno\n",
    "### Actualización: 4 Enero de 2022"
   ]
  },
  {
   "cell_type": "markdown",
   "id": "a14e2007",
   "metadata": {},
   "source": [
    "#### \n",
    "> [**Weona**, que brutal!](https://www.youtube.com/watch?v=z6E4ojGAM5s) (Amiga,que brutal!) \n",
    "\n",
    "> [Saluda con una mano **aweonao**](https://www.youtube.com/watch?v=mXtFCux_UzU&t=21s) (Saluda con una mano, bobo!)\n",
    "\n",
    "> [Y salí yo y le dije: 'Oye **aweonao** fijate que hay niños chicos'](https://www.youtube.com/watch?v=oWxqb4Nov78&t=1s) (Y salí [a la calle] y le dije: 'Oye imbécil, fíjate que hay niños pequeños!)\n",
    "\n",
    "> [... Pero no ha llegado nadie, parece que la **wea** no va! ](https://youtu.be/SvVr7esPKIQ?t=162) (...Pero no ha llegado nadie [aún], parece que la fiesta[situación / evento] no va)\n",
    "\n",
    "#### "
   ]
  },
  {
   "cell_type": "markdown",
   "id": "44ae7a3a",
   "metadata": {},
   "source": [
    "##### \n",
    "### Bienvenidos a todos los ~weones~ amigos del mundo!\n",
    "\n",
    "En este cuadernillo aprenderemos lo básico para poder interpretar y entender oraciones provenientes de los chilenos y de los que hablan como chilenos. La idea es que puedas entender el léxico básico de las oraciones con **weón** para poder adentrarnos a gramáticas que puedan generar/ interpretar y validar los posibles contextos y significados que pueda tener este modismo. \n",
    "\n",
    "**NO TE ASUSTES**, por ahora me pondré el delantal de parvulario para enseñarles a ustedes mis beibis.\n",
    "#### "
   ]
  },
  {
   "cell_type": "markdown",
   "id": "88cd677a",
   "metadata": {},
   "source": [
    "> ### **Weon, más que una palabra, es comunicación estratégica para los veloces y perspicaces de la palabra.**\n",
    "> - Fabián Catalán V.\n"
   ]
  },
  {
   "cell_type": "markdown",
   "id": "b4cd61b0",
   "metadata": {},
   "source": [
    "## Definición y uso de weón\n",
    "\n",
    "Modismo chileno perteneciente al *chilenismo*, que expresa sujetos, elementos, situaciones y descalificaciones según cómo esté conformada en las frases que le contengan. Su interpretación se puede tornar **muy negativa** y puede **generar un mal trato al sujeto**, dependiendo de la comunicación no verbal que le exprese e intencione."
   ]
  },
  {
   "cell_type": "markdown",
   "id": "3852f797",
   "metadata": {},
   "source": [
    "\n",
    "#### Se usa para: \n",
    "\n",
    "- Referirse a un sujeto (vivo o si estuvo vivo) $\\texttt{ [!] para objetos no-animados o situaciones, se emplea 'weá'}$\n",
    "- Descalificar (adjetivo -des-calificativo) hacia un sujeto.\n",
    "- Expresar sorpresa o asombro.\n",
    "- Uso neutro, como una muletilla (puede ser precedido por la muletilla **'po'**)\n",
    " "
   ]
  },
  {
   "cell_type": "markdown",
   "id": "7a40dccd",
   "metadata": {},
   "source": [
    "Empezaremos de inmediato analizando la frase **'Ese weon no puede ser mas weon'**\n",
    "\n",
    "- 'Ese weon' $\\Rightarrow$ se refiere a un sujeto (2° persona singular)\n",
    "- 'no puede ser más weón' $\\Rightarrow$ se refiere a que no puede ser más tonto / bobo / inútil.\n",
    "\n",
    "El primer -weon- se identifica como sujeto porque está precedido de un **Adjetivo demostrativo de interlocutor** (ese) $\\texttt{english: this weon (if a person) -> this guy, this bro, ...}$\n",
    "\n",
    "El segundo -weón- esta precedido por una frase que contiene el verbo **ser**, que convierte a weón de esta frase como un adjetivo descalificativo. (ser weon / eres weon / ser bobo / eres tonto) $\\texttt{english: you are weon, you are stupid, u r idiot}$\n",
    "\n",
    "### Caso neutro y sorpresa:\n",
    "\n",
    "Ej: 'Oh weon, seré weón, tenía que entregar el informe, weon'\n",
    "\n",
    "- 'Oh weon' $\\Rightarrow$ expresión de asombro / impresión\n",
    "- 'seré weón' $\\Rightarrow$ descalificación personal (contiene conjugación del verbo SER) y autocrítica por alguna situación.\n",
    "- '..., weón' $\\Rightarrow$  un weon usado al final puede ser una muletilla del interlocutor de cierre de frase.\n",
    "\n",
    "#### "
   ]
  },
  {
   "cell_type": "markdown",
   "id": "c4e2eee5",
   "metadata": {},
   "source": [
    "## Dimunutivos ablandan oraciones con weon.\n",
    "#### \n",
    "\n",
    "Usar diminutivos en frases con weón sirven para minorizar, suavizar, encariñar o darle un toque tierno a una oración. Sin embargo, la comunicación no verbal, el vínculo entre los participantes y el contexto previo podría generar efectos contrarios para los participantes.\n",
    "\n",
    "Algunos diminutivos comunes que he oido son: 'ito', 'ita', 'dito','dita',\n",
    "\n",
    "- 'Ese weon*cito* me prometió traerme mi cd de vuelta.'\n",
    "- 'oye weona'ita, se te quedó el cuaderno, pero acá te lo traje weoncita uwu'\n",
    "\n",
    "\n",
    "\n",
    "#### "
   ]
  },
  {
   "cell_type": "markdown",
   "id": "bafbe46d",
   "metadata": {},
   "source": [
    "## Weón es sensible al **género percibido** del sujeto\n",
    "#### \n",
    "Weón puede adaptarse según el género percibido del sujeto, del contexto y de la intencionalidad de la oración.\n",
    "\n",
    "**weón** puede representar un sujeto que se percibe masculino, o también neutral (non-binary).\n",
    "Por otro lado, **weona** representa a un sujeto que se percibe como femenino/femenina.\n",
    "\n",
    "$$\\texttt{- NOTA 1: Defino género neutral como humanos no binarios o seres vivos no humanos.}$$\n",
    "$$\\texttt{- NOTA 2: Seres vivos no humanos con dimorfismo sexual evidente, puede catalogarse por su género percibido.}$$\n",
    "\n",
    "- Aquí estás, mi weón favorito.. la mejor bacteria del laboratorio. [neutral]\n",
    "- weón, tu señora te esta siendo infiel. [posible masculino*]\n",
    "- Que soy weona, estoy con la regla y me vestí de falda blanca! [femenin-]\n",
    "- Como estás weoncita, tus pétalos estan hermosos! [neutral / femenino]\n",
    "\n",
    "$\\texttt{NOTA 3: Computacionalmente es complejo determinar el género vía algoritmos NLP}$\n",
    "#### "
   ]
  },
  {
   "cell_type": "markdown",
   "id": "cd946390",
   "metadata": {},
   "source": [
    "## Weón es afectado por la cantidad de sujetos de referencia.\n",
    "\n",
    "- Para oraciones con referencia  a sujetos individuales (singulares) (yo, tu, el) se mantiene **weón / weona.**\n",
    "- Para sujetos plurales (nosotros, ellos) se emplea **weones / weonas**\n",
    "- Para objetos inanimados, situaciones y elementos materiales plurales (esos, aquellos,...) se emplea **weas** (\\*)\n",
    "\n",
    "> (\\*) **wea** se verá con mas detalle en el siguiente notebook\n",
    "\n",
    "#### "
   ]
  },
  {
   "cell_type": "markdown",
   "id": "8f2ec376",
   "metadata": {},
   "source": [
    "## Weón puede usarse como adjetivo para conjugar frases con el verbo ser\n",
    "#### \n",
    "Sin embargo, cuando se usa como adjetivo descalificativo, pasa a llamarse **aweona/o**. Debe cumplir algunas restricciones, que se verán en el siguiente notebook."
   ]
  },
  {
   "cell_type": "code",
   "execution_count": 5,
   "id": "9dd4f14e",
   "metadata": {},
   "outputs": [
    {
     "name": "stdout",
     "output_type": "stream",
     "text": [
      "yo me aweono\n",
      "tú te aweonas / ai\n",
      "el se aweona\n",
      "nosotros nos aweonamos\n",
      "ellos se aweonan\n",
      "voh (te) aweonai\n"
     ]
    }
   ],
   "source": [
    "wn.simplePresent(wn._aweon)"
   ]
  },
  {
   "cell_type": "markdown",
   "id": "521e479d",
   "metadata": {},
   "source": [
    "#### \n",
    "## Siguiente notebook: Weón y wea no es lo mismo!"
   ]
  }
 ],
 "metadata": {
  "kernelspec": {
   "display_name": "Python 3",
   "language": "python",
   "name": "python3"
  },
  "language_info": {
   "codemirror_mode": {
    "name": "ipython",
    "version": 3
   },
   "file_extension": ".py",
   "mimetype": "text/x-python",
   "name": "python",
   "nbconvert_exporter": "python",
   "pygments_lexer": "ipython3",
   "version": "3.8.8"
  }
 },
 "nbformat": 4,
 "nbformat_minor": 5
}
